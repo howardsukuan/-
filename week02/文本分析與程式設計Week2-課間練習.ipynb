{
 "cells": [
  {
   "cell_type": "markdown",
   "metadata": {},
   "source": [
    "# 文本分析與程式設計Week2-課間練習解答\n"
   ]
  },
  {
   "cell_type": "markdown",
   "metadata": {},
   "source": [
    "## 課間練習1\n",
    "看完TF 和 IDF 的內容，你覺決TF 和 IDF 哪個比較接近我們人類思考之中的特徵詞呢？"
   ]
  },
  {
   "cell_type": "code",
   "execution_count": null,
   "metadata": {},
   "outputs": [],
   "source": []
  },
  {
   "cell_type": "markdown",
   "metadata": {},
   "source": [
    "## 課間練習2\n",
    "- 請看以下的新聞，並利用前一堂課學習到的Articut 斷詞方法斷詞，並計算頻率，什麼字詞頻率最高？高頻率的那些字是可以代表那篇新聞的字詞嗎？\n",
    "\n",
    "（中央社記者葉冠吟台北27日電）入圍坎城影展、改編自村上春樹短篇小說的日本電影Drive My Car，由西島秀俊、岡田將生主演，台灣演員袁子芸也參演，更透露西島秀俊本人相當親切，還有許多暖男舉動。袁子芸曾參演戲劇「泡沫之夏」、「未來媽媽」，Drive My Car是她的首部日本電影，飾演一名母語是中英雙語的女演員，在角色背景設定上與她自身有許多相似之處。袁子芸表示，開拍第一天自己很緊張，而且第一場戲就與岡田將生有近距離接觸。不過當時午餐放飯時間延遲，拍戲時大家都有點餓，沒想到在最安靜的瞬間，岡田將生的肚子竟然咕嚕叫了一聲。袁子芸回憶，當下兩人都很專業的繼續演出，等導演一喊卡之後，才忍不住大笑出來，連岡田將生都笑著表示不好意思。不過也因為這個意外插曲，沖淡第一天拍攝的緊張和陌生感，瞬間拉近演員之間的距離。關於男主角西島秀俊，袁子芸看過許多他的作品，原以為他是比較有距離感的大明星，沒想到西島秀俊在讀本過程就相當親切，還有許多暖男舉動。袁子芸分享，有天海外演員殺青後，相約要去慶祝，但因西島秀俊隔天一早還有拍攝，無法同行，他便私下交代製片想請大家吃飯，麻煩製片先代為招待。近日電影傳出入圍坎城影展好消息，袁子芸也相當開心，她表示劇組群組簡直要暴動。雖然她很希望能和劇組一起慶祝，卻因大家都分散不同地方，又正值疫情期間，只能透過通訊軟體互相道賀，期待Drive My Car 能在坎城影展奪下好成績。由柏林影展銀熊獎得主、導演濱口龍介執導的Drive My Car，描述一名想尋找亡妻生前外遇對象的舞台劇演員，藉由與沉默寡言女司機的對話，描繪出各自的故事與情感，電影8月20日將於日本上映。（編輯：張雅淨）1100627\n",
    "\n",
    "The news is from https://www.cna.com.tw/news/amov/202106270091.aspx\n"
   ]
  },
  {
   "cell_type": "code",
   "execution_count": 3,
   "metadata": {},
   "outputs": [],
   "source": [
    "from ArticutAPI import Articut\n",
    "from pprint import pprint\n",
    "\n",
    "newsinputSTR = \"\"\"\n",
    "（中央社記者葉冠吟台北27日電）入圍坎城影展、改編自村上春樹短篇小說的日本電影Drive My Car，由西島秀俊、岡田將生主演，\n",
    "台灣演員袁子芸也參演，更透露西島秀俊本人相當親切，還有許多暖男舉動。袁子芸曾參演戲劇「泡沫之夏」、「未來媽媽」，Drive My Car\n",
    "是她的首部日本電影，飾演一名母語是中英雙語的女演員，在角色背景設定上與她自身有許多相似之處。袁子芸表示，開拍第一天自己很緊張，\n",
    "而且第一場戲就與岡田將生有近距離接觸。不過當時午餐放飯時間延遲，拍戲時大家都有點餓，沒想到在最安靜的瞬間，岡田將生的肚子竟然咕嚕叫了一聲。\n",
    "袁子芸回憶，當下兩人都很專業的繼續演出，等導演一喊卡之後，才忍不住大笑出來，連岡田將生都笑著表示不好意思。不過也因為這個意外插曲，\n",
    "沖淡第一天拍攝的緊張和陌生感，瞬間拉近演員之間的距離。關於男主角西島秀俊，袁子芸看過許多他的作品，原以為他是比較有距離感的大明星，\n",
    "沒想到西島秀俊在讀本過程就相當親切，還有許多暖男舉動。袁子芸分享，有天海外演員殺青後，相約要去慶祝，但因西島秀俊隔天一早還有拍攝，\n",
    "無法同行，他便私下交代製片想請大家吃飯，麻煩製片先代為招待。近日電影傳出入圍坎城影展好消息，袁子芸也相當開心，她表示劇組群組簡直要暴動。\n",
    "雖然她很希望能和劇組一起慶祝，卻因大家都分散不同地方，又正值疫情期間，只能透過通訊軟體互相道賀，期待Drive My Car 能在坎城影展奪下好成績。\n",
    "由柏林影展銀熊獎得主、導演濱口龍介執導的Drive My Car，描述一名想尋找亡妻生前外遇對象的舞台劇演員，藉由與沉默寡言女司機的對話，\n",
    "描繪出各自的故事與情感，電影8月20日將於日本上映。（編輯：張雅淨）1100627\n",
    "\"\"\""
   ]
  },
  {
   "cell_type": "code",
   "execution_count": 6,
   "metadata": {},
   "outputs": [],
   "source": [
    "def wordExtractor(inputLIST):\n",
    "    '''\n",
    "    配合 Articut() 的 .getNounStemLIST() 和 .getVerbStemLIST() 拋棄位置資訊，只抽出詞彙。\n",
    "    '''\n",
    "    resultLIST = []\n",
    "    for i in inputLIST: #在所有inputLIST裡面的小LIST 中\n",
    "        if i == []:     #如果list是空的\n",
    "            pass        #就忽略\n",
    "        else:\n",
    "            for e in i:                  #在小list裡面的元素\n",
    "                resultLIST.append(e[-1]) #把內容存在resultLIST中\n",
    "    return sorted(list(set(resultLIST))) #把所有的內容排序(sort)、放在list 裡面 (list)、用set排除重複的內容 (set)"
   ]
  },
  {
   "cell_type": "code",
   "execution_count": null,
   "metadata": {},
   "outputs": [],
   "source": [
    "#先使用 articut 斷詞，把結果存在newsResultDICT 裡面\n",
    "\n",
    "\n",
    "#只要取用 \"result_segmentation\" 的結果，把結果存在seg_result\n",
    "\n",
    "\n",
    "#用 .split() 以 \"/\" 來分開，並存成 wordLIST 中\n",
    "\n",
    "\n",
    "#使用Counter 來幫助你計算頻率\n",
    "# 可以參考這個https://www.itread01.com/articles/1476167108.html\n",
    "from collections import Counter\n"
   ]
  },
  {
   "cell_type": "markdown",
   "metadata": {},
   "source": [
    "## 課間練習3\n",
    "articut.getLocationStemLIST() 和用 articut.getContentWordLIST() 和前面取名詞和動詞的方法是一樣的，請嘗試自己摸索使用看看articut.getLocationStemLIST() 和用 articut.getContentWordLIST()。\n",
    "\n",
    "請用下面籃球和棒球的練習"
   ]
  },
  {
   "cell_type": "code",
   "execution_count": null,
   "metadata": {},
   "outputs": [],
   "source": [
    "#!/usr/bin/env python3\n",
    "# -*- coding:utf-8 -*-\n",
    "\n",
    "## 將棒球和籃球斷詞\n",
    "\n",
    "from ArticutAPI import Articut\n",
    "import json\n",
    "from pprint import pprint\n",
    "\n",
    "\n",
    "if __name__ == \"__main__\":\n",
    "    \n",
    "    username = \"\" #這裡填入您在 https://api.droidtown.co 使用的帳號 email。若使用空字串，則預設使用每小時 2000 字的公用額度。\n",
    "    apikey   = \"\" #這裡填入您在 https://api.droidtown.co 登入後取得的 api Key。若使用空字串，則預設使用每小時 2000 字的公用額度。\n",
    "\n",
    "    articut = Articut(username, apikey)    \n",
    "    \n",
    "    #以下語料可以參考\n",
    "    baseballSTR = \"\"\"本週三在紐約的比賽中，馬林魚此戰使用投手車輪戰，4名投手輪番上陣壓制大都會打線，\n",
    "    前8局僅被敲出4支安打失1分，讓球隊能帶著2-1的領先優勢進入到9局下半。不過馬林魚推出巴斯登板關門，\n",
    "    他面對首名打者麥尼爾，就被打出一發陽春砲，讓大都會追平比數，接下來又分別被敲出2支安打、投出保送，\n",
    "    形成滿壘局面，此時輪到康福托上場打擊。在2好1壞的局面下，巴斯投了一顆內角滑球，康福托眼看這顆球越來越\n",
    "    靠近自己的身體，似乎有下意識地將手伸進好球帶內，結果這球就直接碰觸到他的身肘，隨後主審庫爾帕判定這是\n",
    "    一記觸身球，讓大都會兵不血刃拿下再見分，最終贏得比賽勝利。\"\"\".replace(\" \", \"\")\n",
    "    basketballSTR = \"\"\"昨晚的紐約西區霸王之戰中，錯失勝利的太陽沒有就此束手就擒，延長賽一開始就打出7比2攻勢\n",
    "    ，米契爾和康利雖然力圖追分，但太陽總能馬上回應。康利讀秒階段上籃得手，布克兩罰一中，再次留給爵士追平機會。\n",
    "    米契爾造成犯規，可惜兩罰一中，保羅隨後用兩罰鎖定勝利。米契爾狂轟41分8籃板3助攻，本季單場得分次高；戈貝爾160\n",
    "    分18籃板3抄截，波格丹諾維奇20分。康利拿到11分4助攻，克拉克森11分，兩人合計28投僅9中。爵士的三分攻勢難以\n",
    "    有效施展，全場44投僅11中。\"\"\".replace(\" \", \"\")\n",
    "    \n",
    "    #將 KNOWLEDGE_NBA_Teams.json 和 KNOWLEDGE_MLB_Teams.json 兩個體育欸字典讀取出來，合併成mixDICT 以後，寫入 mixedXICT.json 檔\n",
    "    with open(\"ArticutAPI-master/Public_UserDefinedDict/KNOWLEDGE_NBA_Teams.json\", encoding=\"utf-8\") as f:\n",
    "        nbaDICT = json.loads(f.read())\n",
    "    with open(\"ArticutAPI-master/Public_UserDefinedDICT/KNOWLEDGE_MLB_Teams.json\", encoding=\"utf-8\") as f:\n",
    "        mlbDICT = json.loads(f.read())\n",
    "        \n",
    "    mixedDICT = {**nbaDICT, **mlbDICT}\n",
    "    with open(\"mixedDICT.json\", mode = \"w\", encoding = \"utf-8\") as f:\n",
    "        json.dump(mixedDICT, f, ensure_ascii=False)\n",
    "    \n",
    "    # 將baseballStR 和 basketballSTR 兩篇文本各自送入articut.parse() 裡，同時指定 userDefinedDictFILE 為剛才產生mixedDICT.json\n",
    "    baseballResultDICT = articut.parse(baseballSTR, userDefinedDictFILE=\"./mixedDICT.json\")\n",
    "    basketballResultDICT = articut.parse(basketballSTR, userDefinedDictFILE=\"./mixedDICT.json\")\n",
    "    \n",
    "    print(\"\\n棒球斷詞結果：\\n\")\n",
    "    pprint(baseballResultDICT)\n",
    "    print(\"\\n籃球斷詞結果：\\n\")\n",
    "    pprint(basketballResultDICT)"
   ]
  },
  {
   "cell_type": "code",
   "execution_count": null,
   "metadata": {},
   "outputs": [],
   "source": [
    "## 用articut.getContentWordLIST() \n",
    "\n",
    "\n",
    "\n",
    "\n",
    "\n",
    "## 用 articut.getLocationStemLIST()\n",
    "\n",
    "\n",
    "\n",
    "\n",
    "## 用 articut.getNounStemLIST()\n",
    "baseballNounLIST = articut.getNounStemLIST(baseballResultDICT) \n",
    "print(\"\\n getNounStemLIST 棒球結果\")\n",
    "print(wordExtractor(baseballNounLIST))\n",
    "\n",
    "basketballNounLIST = articut.getNounStemLIST(basketballResultDICT)\n",
    "print(\"\\n getNounStemLIST 籃球結果\")\n",
    "print(wordExtractor(basketballNounLIST))\n",
    "\n",
    "## articut.getVerbStemLIST() \n",
    "baseballVerbLIST = articut.getVerbStemLIST(baseballResultDICT) \n",
    "print(\"\\n getVerbStemLIST 棒球結果\")\n",
    "print(wordExtractor(baseballVerbLIST))\n",
    "\n",
    "basketballVerbLIST = articut.getVerbStemLIST(basketballResultDICT)\n",
    "print(\"\\n getVerbStemLIST 籃球結果\")\n",
    "print(wordExtractor(basketballVerbLIST))"
   ]
  },
  {
   "cell_type": "markdown",
   "metadata": {},
   "source": [
    "以上是這些不同函式的結果，請大家觀察看看 content word (內容詞) 和 location word (地方名稱) 是否具有比「動詞」或「名詞」更好/更差的特徵表現能力。說說看你的觀察。"
   ]
  },
  {
   "cell_type": "code",
   "execution_count": null,
   "metadata": {},
   "outputs": [],
   "source": []
  }
 ],
 "metadata": {
  "kernelspec": {
   "display_name": "Python 3",
   "language": "python",
   "name": "python3"
  },
  "language_info": {
   "codemirror_mode": {
    "name": "ipython",
    "version": 3
   },
   "file_extension": ".py",
   "mimetype": "text/x-python",
   "name": "python",
   "nbconvert_exporter": "python",
   "pygments_lexer": "ipython3",
   "version": "3.8.5"
  }
 },
 "nbformat": 4,
 "nbformat_minor": 4
}
