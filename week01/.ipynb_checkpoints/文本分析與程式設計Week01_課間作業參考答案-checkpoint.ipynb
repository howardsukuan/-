{
 "cells": [
  {
   "cell_type": "markdown",
   "metadata": {},
   "source": [
    "## 課間作業 1\n",
    "請問下面這段文字有幾個字？幾個字符？幾個詞？\n",
    "\n",
    "「這個星期日本想往後山藥師佛寺去世人罕至處想一想自己的人生」\n"
   ]
  },
  {
   "cell_type": "markdown",
   "metadata": {},
   "source": [
    "### 參考答案\n",
    "字數：16 \n",
    "\n",
    "這/個/星期日/本/想/往/後山/藥師佛寺/去/世人/罕至/處/想一想/自己/的/人生 ## need check ##articut 會把後山分開 \n",
    "\n",
    "字符數： 28\n",
    "\n",
    "這/個/星/期/日/本/想/往/後/山/藥/師/佛/寺/去/世/人/罕/至/處/想/一/想/自/己/的/人/生\n",
    "\n",
    "詞數：2\n",
    "\n",
    "這個, 想一想"
   ]
  },
  {
   "cell_type": "code",
   "execution_count": 3,
   "metadata": {},
   "outputs": [
    {
     "name": "stdout",
     "output_type": "stream",
     "text": [
      "\n",
      " level 1 結果：\n",
      "\n",
      "{'document': 'https://api.droidtown.co/document/',\n",
      " 'exec_time': 0.08847856521606445,\n",
      " 'level': 'lv1',\n",
      " 'msg': 'Success!',\n",
      " 'product': 'https://api.droidtown.co/product/',\n",
      " 'result_obj': [[{'pos': 'FUNC_determiner', 'text': '這'},\n",
      "                 {'pos': 'ENTITY_classifier', 'text': '個'},\n",
      "                 {'pos': 'TIME_week', 'text': '星期日'},\n",
      "                 {'pos': 'MODIFIER', 'text': '本'},\n",
      "                 {'pos': 'ACTION_verb', 'text': '想'},\n",
      "                 {'pos': 'FUNC_inner', 'text': '往'},\n",
      "                 {'pos': 'RANGE_locality', 'text': '後'},\n",
      "                 {'pos': 'ENTITY_oov', 'text': '山'},\n",
      "                 {'pos': 'ENTITY_noun', 'text': '藥師'},\n",
      "                 {'pos': 'ENTITY_nounHead', 'text': '佛寺'},\n",
      "                 {'pos': 'ACTION_verb', 'text': '去'},\n",
      "                 {'pos': 'ENTITY_nouny', 'text': '世'},\n",
      "                 {'pos': 'ENTITY_noun', 'text': '人'},\n",
      "                 {'pos': 'MODIFIER', 'text': '罕'},\n",
      "                 {'pos': 'FUNC_inner', 'text': '至'},\n",
      "                 {'pos': 'ACTION_verb', 'text': '處'},\n",
      "                 {'pos': 'ACTION_quantifiedVerb', 'text': '想一想'},\n",
      "                 {'pos': 'ENTITY_pronoun', 'text': '自己'},\n",
      "                 {'pos': 'FUNC_inner', 'text': '的'},\n",
      "                 {'pos': 'ENTITY_noun', 'text': '人生'}]],\n",
      " 'result_pos': ['<FUNC_determiner>這</FUNC_determiner><ENTITY_classifier>個</ENTITY_classifier><TIME_week>星期日</TIME_week><MODIFIER>本</MODIFIER><ACTION_verb>想</ACTION_verb><FUNC_inner>往</FUNC_inner><RANGE_locality>後</RANGE_locality><ENTITY_oov>山</ENTITY_oov><ENTITY_noun>藥師</ENTITY_noun><ENTITY_nounHead>佛寺</ENTITY_nounHead><ACTION_verb>去</ACTION_verb><ENTITY_nouny>世</ENTITY_nouny><ENTITY_noun>人</ENTITY_noun><MODIFIER>罕</MODIFIER><FUNC_inner>至</FUNC_inner><ACTION_verb>處</ACTION_verb><ACTION_quantifiedVerb>想一想</ACTION_quantifiedVerb><ENTITY_pronoun>自己</ENTITY_pronoun><FUNC_inner>的</FUNC_inner><ENTITY_noun>人生</ENTITY_noun>'],\n",
      " 'result_segmentation': '這/個/星期日/本/想/往/後/山/藥師/佛寺/去/世/人/罕/至/處/想一想/自己/的/人生',\n",
      " 'status': True,\n",
      " 'version': 'v236',\n",
      " 'word_count_balance': 100000}\n",
      "\n",
      " level 2 結果：\n",
      "\n",
      "{'document': 'https://api.droidtown.co/document/',\n",
      " 'exec_time': 0.09381890296936035,\n",
      " 'level': 'lv2',\n",
      " 'msg': 'Success!',\n",
      " 'product': 'https://api.droidtown.co/product/',\n",
      " 'result_obj': [[{'pos': 'ENTITY_DetPhrase', 'text': '這個'},\n",
      "                 {'pos': 'TIME_week', 'text': '星期日'},\n",
      "                 {'pos': 'MODIFIER', 'text': '本'},\n",
      "                 {'pos': 'ACTION_verb', 'text': '想'},\n",
      "                 {'pos': 'FUNC_inner', 'text': '往'},\n",
      "                 {'pos': 'RANGE_locality', 'text': '後'},\n",
      "                 {'pos': 'ENTITY_oov', 'text': '山'},\n",
      "                 {'pos': 'ENTITY_nouny', 'text': '藥師佛寺'},\n",
      "                 {'pos': 'ACTION_verb', 'text': '去'},\n",
      "                 {'pos': 'ENTITY_nouny', 'text': '世人'},\n",
      "                 {'pos': 'MODIFIER', 'text': '罕'},\n",
      "                 {'pos': 'FUNC_inner', 'text': '至'},\n",
      "                 {'pos': 'ACTION_verb', 'text': '處'},\n",
      "                 {'pos': 'ACTION_quantifiedVerb', 'text': '想一想'},\n",
      "                 {'pos': 'ENTITY_pronoun', 'text': '自己'},\n",
      "                 {'pos': 'FUNC_inner', 'text': '的'},\n",
      "                 {'pos': 'ENTITY_noun', 'text': '人生'}]],\n",
      " 'result_pos': ['<ENTITY_DetPhrase>這個</ENTITY_DetPhrase><TIME_week>星期日</TIME_week><MODIFIER>本</MODIFIER><ACTION_verb>想</ACTION_verb><FUNC_inner>往</FUNC_inner><RANGE_locality>後</RANGE_locality><ENTITY_oov>山</ENTITY_oov><ENTITY_nouny>藥師佛寺</ENTITY_nouny><ACTION_verb>去</ACTION_verb><ENTITY_nouny>世人</ENTITY_nouny><MODIFIER>罕</MODIFIER><FUNC_inner>至</FUNC_inner><ACTION_verb>處</ACTION_verb><ACTION_quantifiedVerb>想一想</ACTION_quantifiedVerb><ENTITY_pronoun>自己</ENTITY_pronoun><FUNC_inner>的</FUNC_inner><ENTITY_noun>人生</ENTITY_noun>'],\n",
      " 'result_segmentation': '這個/星期日/本/想/往/後/山/藥師佛寺/去/世人/罕/至/處/想一想/自己/的/人生',\n",
      " 'status': True,\n",
      " 'version': 'v236',\n",
      " 'word_count_balance': 100000}\n"
     ]
    }
   ],
   "source": [
    "#用articut 來斷詞\n",
    "from ArticutAPI import Articut\n",
    "from pprint import pprint\n",
    "\n",
    "\n",
    "if __name__ == \"__main__\":\n",
    "    \n",
    "    username = \"\" #這裡填入您在 https://api.droidtown.co 使用的帳號 email。若使用空字串，則預設使用每小時 2000 字的公用額度。\n",
    "    apikey   = \"\" #這裡填入您在 https://api.droidtown.co 登入後取得的 api Key。若使用空字串，則預設使用每小時 2000 字的公用額度。\n",
    "\n",
    "    articut = Articut(username, apikey)    \n",
    "\n",
    "    inputSTR = \"這個星期日本想往後山藥師佛寺去世人罕至處想一想自己的人生\" \n",
    "    resultDICT1 = articut.parse(inputSTR, level = 'lv1')  \n",
    "    print(\"\\n level 1 結果：\\n\")\n",
    "    pprint(resultDICT1)\n",
    "    \n",
    "    resultDICT2 = articut.parse(inputSTR, level = 'lv2')    \n",
    "    print(\"\\n level 2 結果：\\n\")\n",
    "    pprint(resultDICT2)"
   ]
  },
  {
   "cell_type": "markdown",
   "metadata": {},
   "source": [
    "## 課間作業 2 \n",
    "仿照前例，用 Python3 設計一段程式，分別用 \"lv1\" 和 \"lv2\" 輸入「閱讀創造了奇蹟」，觀察 lv1 和 lv2 的設定下，回傳的結果有何差別。"
   ]
  },
  {
   "cell_type": "code",
   "execution_count": 7,
   "metadata": {},
   "outputs": [
    {
     "name": "stdout",
     "output_type": "stream",
     "text": [
      "\n",
      " level 1 結果：\n",
      " {'exec_time': 0.10109949111938477, 'result_pos': ['<FUNC_determiner>這</FUNC_determiner><ENTITY_classifier>個</ENTITY_classifier><TIME_week>星期日</TIME_week><MODIFIER>本</MODIFIER><ACTION_verb>想</ACTION_verb><FUNC_inner>往</FUNC_inner><RANGE_locality>後</RANGE_locality><ENTITY_oov>山</ENTITY_oov><ENTITY_noun>藥師</ENTITY_noun><ENTITY_nounHead>佛寺</ENTITY_nounHead><ACTION_verb>去</ACTION_verb><ENTITY_nouny>世</ENTITY_nouny><ENTITY_noun>人</ENTITY_noun><MODIFIER>罕</MODIFIER><FUNC_inner>至</FUNC_inner><ACTION_verb>處</ACTION_verb><ACTION_quantifiedVerb>想一想</ACTION_quantifiedVerb><ENTITY_pronoun>自己</ENTITY_pronoun><FUNC_inner>的</FUNC_inner><ENTITY_noun>人生</ENTITY_noun>'], 'result_segmentation': '這/個/星期日/本/想/往/後/山/藥師/佛寺/去/世/人/罕/至/處/想一想/自己/的/人生', 'result_obj': [[{'text': '這', 'pos': 'FUNC_determiner'}, {'text': '個', 'pos': 'ENTITY_classifier'}, {'text': '星期日', 'pos': 'TIME_week'}, {'text': '本', 'pos': 'MODIFIER'}, {'text': '想', 'pos': 'ACTION_verb'}, {'text': '往', 'pos': 'FUNC_inner'}, {'text': '後', 'pos': 'RANGE_locality'}, {'text': '山', 'pos': 'ENTITY_oov'}, {'text': '藥師', 'pos': 'ENTITY_noun'}, {'text': '佛寺', 'pos': 'ENTITY_nounHead'}, {'text': '去', 'pos': 'ACTION_verb'}, {'text': '世', 'pos': 'ENTITY_nouny'}, {'text': '人', 'pos': 'ENTITY_noun'}, {'text': '罕', 'pos': 'MODIFIER'}, {'text': '至', 'pos': 'FUNC_inner'}, {'text': '處', 'pos': 'ACTION_verb'}, {'text': '想一想', 'pos': 'ACTION_quantifiedVerb'}, {'text': '自己', 'pos': 'ENTITY_pronoun'}, {'text': '的', 'pos': 'FUNC_inner'}, {'text': '人生', 'pos': 'ENTITY_noun'}]], 'level': 'lv1', 'version': 'v235', 'status': True, 'msg': 'Success!', 'word_count_balance': 1706, 'product': 'https://api.droidtown.co/product/', 'document': 'https://api.droidtown.co/document/'}\n",
      "\n",
      " level 2 結果：\n",
      " {'exec_time': 0.10386109352111816, 'result_pos': ['<ENTITY_DetPhrase>這個</ENTITY_DetPhrase><TIME_week>星期日</TIME_week><MODIFIER>本</MODIFIER><ACTION_verb>想</ACTION_verb><FUNC_inner>往</FUNC_inner><RANGE_locality>後</RANGE_locality><ENTITY_oov>山</ENTITY_oov><ENTITY_nouny>藥師佛寺</ENTITY_nouny><ACTION_verb>去</ACTION_verb><ENTITY_nouny>世人</ENTITY_nouny><MODIFIER>罕</MODIFIER><FUNC_inner>至</FUNC_inner><ACTION_verb>處</ACTION_verb><ACTION_quantifiedVerb>想一想</ACTION_quantifiedVerb><ENTITY_pronoun>自己</ENTITY_pronoun><FUNC_inner>的</FUNC_inner><ENTITY_noun>人生</ENTITY_noun>'], 'result_segmentation': '這個/星期日/本/想/往/後/山/藥師佛寺/去/世人/罕/至/處/想一想/自己/的/人生', 'result_obj': [[{'text': '這個', 'pos': 'ENTITY_DetPhrase'}, {'text': '星期日', 'pos': 'TIME_week'}, {'text': '本', 'pos': 'MODIFIER'}, {'text': '想', 'pos': 'ACTION_verb'}, {'text': '往', 'pos': 'FUNC_inner'}, {'text': '後', 'pos': 'RANGE_locality'}, {'text': '山', 'pos': 'ENTITY_oov'}, {'text': '藥師佛寺', 'pos': 'ENTITY_nouny'}, {'text': '去', 'pos': 'ACTION_verb'}, {'text': '世人', 'pos': 'ENTITY_nouny'}, {'text': '罕', 'pos': 'MODIFIER'}, {'text': '至', 'pos': 'FUNC_inner'}, {'text': '處', 'pos': 'ACTION_verb'}, {'text': '想一想', 'pos': 'ACTION_quantifiedVerb'}, {'text': '自己', 'pos': 'ENTITY_pronoun'}, {'text': '的', 'pos': 'FUNC_inner'}, {'text': '人生', 'pos': 'ENTITY_noun'}]], 'level': 'lv2', 'version': 'v235', 'status': True, 'msg': 'Success!', 'word_count_balance': 1678, 'product': 'https://api.droidtown.co/product/', 'document': 'https://api.droidtown.co/document/'}\n"
     ]
    }
   ],
   "source": [
    "#!/usr/bin/env python3\n",
    "# -*- coding:utf-8 -*-\n",
    "\n",
    "\n",
    "from ArticutAPI import Articut\n",
    "from pprint import pprint\n",
    "\n",
    "\n",
    "if __name__ == \"__main__\":\n",
    "    \n",
    "    username = \"\" #這裡填入您在 https://api.droidtown.co 使用的帳號 email。若使用空字串，則預設使用每小時 2000 字的公用額度。\n",
    "    apikey   = \"\" #這裡填入您在 https://api.droidtown.co 登入後取得的 api Key。若使用空字串，則預設使用每小時 2000 字的公用額度。\n",
    "\n",
    "    articut = Articut(username, apikey)    \n",
    "\n",
    "    inputSTR = \"閱讀創造了奇蹟\" \n",
    "    resultDICT = articut.parse(inputSTR, level = 'lv1')  \n",
    "    print(\"\\n level 1 結果：\\n\", resultDICT)\n",
    "    \n",
    "    resultDICT = articut.parse(inputSTR, level = 'lv2')    \n",
    "    print(\"\\n level 2 結果：\\n\", resultDICT)"
   ]
  },
  {
   "cell_type": "markdown",
   "metadata": {},
   "source": [
    "### 課間練習3\n",
    "仿照右例，結合兩個字典檔成為一個 mixedDICT.json 檔以後。分別將 basebalSTR 和 basketballSTR 輸入 Articut 進行處理並取得回傳結果。"
   ]
  },
  {
   "cell_type": "code",
   "execution_count": 17,
   "metadata": {},
   "outputs": [
    {
     "name": "stdout",
     "output_type": "stream",
     "text": [
      "\n",
      "棒球斷詞結果：\n",
      " {'exec_time': 0.21756720542907715, 'result_pos': ['<FUNC_determiner>本</FUNC_determiner><TIME_week>週三</TIME_week><FUNC_inner>在</FUNC_inner><LOCATION>紐約</LOCATION><FUNC_inner>的</FUNC_inner><ENTITY_nouny>比賽</ENTITY_nouny><RANGE_locality>中</RANGE_locality>', '，', '<UserDefined>馬林魚</UserDefined><ENTITY_nouny>此戰</ENTITY_nouny><ACTION_verb>使用</ACTION_verb><ENTITY_noun>投手</ENTITY_noun><ENTITY_nouny>車輪戰</ENTITY_nouny>', '，', '<ENTITY_classifier>4名</ENTITY_classifier><ENTITY_noun>投手</ENTITY_noun><MODIFIER>輪番</MODIFIER><ACTION_verb>上陣</ACTION_verb><ACTION_verb>壓制</ACTION_verb><UserDefined>大都會</UserDefined><ENTITY_noun>打線</ENTITY_noun>', '，', '\\n', '<ENTITY_classifier>前8局</ENTITY_classifier><MODIFIER>僅</MODIFIER><ACTION_lightVerb>被</ACTION_lightVerb><VerbP>敲出</VerbP><ENTITY_classifier>4支</ENTITY_classifier><ENTITY_nouny>安打</ENTITY_nouny><ACTION_verb>失</ACTION_verb><ENTITY_measurement>1分</ENTITY_measurement>', '，', '<ACTION_verb>讓</ACTION_verb><ENTITY_noun>球隊</ENTITY_noun><MODAL>能</MODAL><VerbP>帶著</VerbP><ENTITY_num>2</ENTITY_num>', '-', '<ENTITY_num>1</ENTITY_num><FUNC_inner>的</FUNC_inner><ENTITY_nouny>領先</ENTITY_nouny><ENTITY_nouny>優勢</ENTITY_nouny><ACTION_verb>進入</ACTION_verb><ACTION_verb>到</ACTION_verb><ENTITY_classifier>9局</ENTITY_classifier><RANGE_locality>下半</RANGE_locality>', '。', '<FUNC_inner>不過</FUNC_inner><UserDefined>馬林魚</UserDefined><ACTION_verb>推出</ACTION_verb><ENTITY_person>巴斯</ENTITY_person><ENTITY_nouny>登板</ENTITY_nouny><VerbP>關門</VerbP>', '，', '\\n', '<ENTITY_pronoun>他</ENTITY_pronoun><ACTION_verb>面對</ACTION_verb><ENTITY_classifier>首名</ENTITY_classifier><ENTITY_noun>打者</ENTITY_noun><ENTITY_person>麥尼爾</ENTITY_person>', '，', '<FUNC_inner>就</FUNC_inner><ACTION_lightVerb>被</ACTION_lightVerb><ACTION_verb>打出</ACTION_verb><ENTITY_classifier>一發</ENTITY_classifier><ENTITY_nouny>陽春砲</ENTITY_nouny>', '，', '<ACTION_verb>讓</ACTION_verb><UserDefined>大都會</UserDefined><ENTITY_nouny>追平比數</ENTITY_nouny>', '，', '<ACTION_verb>接下來</ACTION_verb><FUNC_inner>又</FUNC_inner><MODIFIER>分別</MODIFIER><ACTION_lightVerb>被</ACTION_lightVerb><VerbP>敲出</VerbP><ENTITY_classifier>2支</ENTITY_classifier><ENTITY_nouny>安打</ENTITY_nouny>', '、', '<ACTION_verb>投出</ACTION_verb><ACTION_verb>保送</ACTION_verb>', '，', '\\n', '<ACTION_verb>形成</ACTION_verb><ENTITY_noun>滿壘</ENTITY_noun><ENTITY_nounHead>局面</ENTITY_nounHead>', '，', '<FUNC_determiner>此</FUNC_determiner><FUNC_inner>時</FUNC_inner><ACTION_verb>輪到</ACTION_verb><ENTITY_person>康福托</ENTITY_person><ACTION_verb>上場</ACTION_verb><ACTION_verb>打擊</ACTION_verb>', '。', '<FUNC_inner>在</FUNC_inner><ENTITY_num>2</ENTITY_num><FUNC_degreeHead>好</FUNC_degreeHead><ENTITY_num>1</ENTITY_num><MODIFIER>壞</MODIFIER><FUNC_inner>的</FUNC_inner><ENTITY_nouny>局面</ENTITY_nouny><RANGE_locality>下</RANGE_locality>', '，', '<ENTITY_person>巴斯</ENTITY_person><VerbP>投了</VerbP><ENTITY_classifier>一顆</ENTITY_classifier><RANGE_locality>內</RANGE_locality><ENTITY_oov>角滑球</ENTITY_oov>', '，', '<ENTITY_person>康福托</ENTITY_person><ENTITY_nouny>眼</ENTITY_nouny><ACTION_verb>看</ACTION_verb><ENTITY_DetPhrase>這顆</ENTITY_DetPhrase><ENTITY_nouny>球</ENTITY_nouny><ACTION_verb>越來</ACTION_verb><MODIFIER>越</MODIFIER>', '\\n', '<ACTION_verb>靠近</ACTION_verb><ENTITY_pronoun>自己</ENTITY_pronoun><FUNC_inner>的</FUNC_inner><ENTITY_noun>身體</ENTITY_noun>', '，', '<MODIFIER>似乎</MODIFIER><ACTION_verb>有下</ACTION_verb><ENTITY_nouny>意識地</ENTITY_nouny><MODAL>將</MODAL><ENTITY_oov>手</ENTITY_oov><ACTION_verb>伸進</ACTION_verb><FUNC_degreeHead>好</FUNC_degreeHead><LOCATION>球帶內</LOCATION>', '，', '<FUNC_inter>結果</FUNC_inter><ENTITY_nouny>這球</ENTITY_nouny><FUNC_inner>就</FUNC_inner><MODIFIER>直接</MODIFIER><ACTION_verb>碰觸</ACTION_verb><ACTION_verb>到</ACTION_verb><ENTITY_pronoun>他</ENTITY_pronoun><FUNC_inner>的</FUNC_inner><ENTITY_nouny>身肘</ENTITY_nouny>', '，', '<ACTION_verb>隨</ACTION_verb><RANGE_period>後</RANGE_period><ENTITY_nouny>主審</ENTITY_nouny><ENTITY_person>庫爾帕</ENTITY_person><ACTION_verb>判定</ACTION_verb><FUNC_determiner>這</FUNC_determiner><AUX>是</AUX>', '\\n', '<ENTITY_classifier>一記</ENTITY_classifier><ENTITY_noun>觸身球</ENTITY_noun>', '，', '<ACTION_verb>讓</ACTION_verb><UserDefined>大都會</UserDefined><IDIOM>兵不血刃</IDIOM><ACTION_verb>拿下</ACTION_verb><ACTION_verb>再見</ACTION_verb><ENTITY_nouny>分</ENTITY_nouny>', '，', '<DegreeP>最終</DegreeP><ACTION_verb>贏得</ACTION_verb><ENTITY_nouny>比賽</ENTITY_nouny><ENTITY_nouny>勝利</ENTITY_nouny>', '。'], 'result_segmentation': '本/週三/在/紐約/的/比賽/中/，/馬林魚/此戰/使用/投手/車輪戰/，/4名/投手/輪番/上陣/壓制/大都會/打線/，/\\n/前8局/僅/被/敲出/4支/安打/失/1分/，/讓/球隊/能/帶著/2/-/1/的/領先/優勢/進入/到/9局/下半/。/不過/馬林魚/推出/巴斯/登板/關門/，/\\n/他/面對/首名/打者/麥尼爾/，/就/被/打出/一發/陽春砲/，/讓/大都會/追平比數/，/接下來/又/分別/被/敲出/2支/安打/、/投出/保送/，/\\n/形成/滿壘/局面/，/此/時/輪到/康福托/上場/打擊/。/在/2/好/1/壞/的/局面/下/，/巴斯/投了/一顆/內/角滑球/，/康福托/眼/看/這顆/球/越來/越/\\n/靠近/自己/的/身體/，/似乎/有下/意識地/將/手/伸進/好/球帶內/，/結果/這球/就/直接/碰觸/到/他/的/身肘/，/隨/後/主審/庫爾帕/判定/這/是/\\n/一記/觸身球/，/讓/大都會/兵不血刃/拿下/再見/分/，/最終/贏得/比賽/勝利/。', 'result_obj': [[{'text': '本', 'pos': 'FUNC_determiner'}, {'text': '週三', 'pos': 'TIME_week'}, {'text': '在', 'pos': 'FUNC_inner'}, {'text': '紐約', 'pos': 'LOCATION'}, {'text': '的', 'pos': 'FUNC_inner'}, {'text': '比賽', 'pos': 'ENTITY_nouny'}, {'text': '中', 'pos': 'RANGE_locality'}], [{'text': '，', 'pos': 'PUNCTUATION'}], [{'text': '馬林魚', 'pos': 'UserDefined'}, {'text': '此戰', 'pos': 'ENTITY_nouny'}, {'text': '使用', 'pos': 'ACTION_verb'}, {'text': '投手', 'pos': 'ENTITY_noun'}, {'text': '車輪戰', 'pos': 'ENTITY_nouny'}], [{'text': '，', 'pos': 'PUNCTUATION'}], [{'text': '4名', 'pos': 'ENTITY_classifier'}, {'text': '投手', 'pos': 'ENTITY_noun'}, {'text': '輪番', 'pos': 'MODIFIER'}, {'text': '上陣', 'pos': 'ACTION_verb'}, {'text': '壓制', 'pos': 'ACTION_verb'}, {'text': '大都會', 'pos': 'UserDefined'}, {'text': '打線', 'pos': 'ENTITY_noun'}], [{'text': '，', 'pos': 'PUNCTUATION'}], [{'text': '\\n', 'pos': 'PUNCTUATION'}], [{'text': '前8局', 'pos': 'ENTITY_classifier'}, {'text': '僅', 'pos': 'MODIFIER'}, {'text': '被', 'pos': 'ACTION_lightVerb'}, {'text': '敲出', 'pos': 'VerbP'}, {'text': '4支', 'pos': 'ENTITY_classifier'}, {'text': '安打', 'pos': 'ENTITY_nouny'}, {'text': '失', 'pos': 'ACTION_verb'}, {'text': '1分', 'pos': 'ENTITY_measurement'}], [{'text': '，', 'pos': 'PUNCTUATION'}], [{'text': '讓', 'pos': 'ACTION_verb'}, {'text': '球隊', 'pos': 'ENTITY_noun'}, {'text': '能', 'pos': 'MODAL'}, {'text': '帶著', 'pos': 'VerbP'}, {'text': '2', 'pos': 'ENTITY_num'}], [{'text': '-', 'pos': 'PUNCTUATION'}], [{'text': '1', 'pos': 'ENTITY_num'}, {'text': '的', 'pos': 'FUNC_inner'}, {'text': '領先', 'pos': 'ENTITY_nouny'}, {'text': '優勢', 'pos': 'ENTITY_nouny'}, {'text': '進入', 'pos': 'ACTION_verb'}, {'text': '到', 'pos': 'ACTION_verb'}, {'text': '9局', 'pos': 'ENTITY_classifier'}, {'text': '下半', 'pos': 'RANGE_locality'}], [{'text': '。', 'pos': 'PUNCTUATION'}], [{'text': '不過', 'pos': 'FUNC_inner'}, {'text': '馬林魚', 'pos': 'UserDefined'}, {'text': '推出', 'pos': 'ACTION_verb'}, {'text': '巴斯', 'pos': 'ENTITY_person'}, {'text': '登板', 'pos': 'ENTITY_nouny'}, {'text': '關門', 'pos': 'VerbP'}], [{'text': '，', 'pos': 'PUNCTUATION'}], [{'text': '\\n', 'pos': 'PUNCTUATION'}], [{'text': '他', 'pos': 'ENTITY_pronoun'}, {'text': '面對', 'pos': 'ACTION_verb'}, {'text': '首名', 'pos': 'ENTITY_classifier'}, {'text': '打者', 'pos': 'ENTITY_noun'}, {'text': '麥尼爾', 'pos': 'ENTITY_person'}], [{'text': '，', 'pos': 'PUNCTUATION'}], [{'text': '就', 'pos': 'FUNC_inner'}, {'text': '被', 'pos': 'ACTION_lightVerb'}, {'text': '打出', 'pos': 'ACTION_verb'}, {'text': '一發', 'pos': 'ENTITY_classifier'}, {'text': '陽春砲', 'pos': 'ENTITY_nouny'}], [{'text': '，', 'pos': 'PUNCTUATION'}], [{'text': '讓', 'pos': 'ACTION_verb'}, {'text': '大都會', 'pos': 'UserDefined'}, {'text': '追平比數', 'pos': 'ENTITY_nouny'}], [{'text': '，', 'pos': 'PUNCTUATION'}], [{'text': '接下來', 'pos': 'ACTION_verb'}, {'text': '又', 'pos': 'FUNC_inner'}, {'text': '分別', 'pos': 'MODIFIER'}, {'text': '被', 'pos': 'ACTION_lightVerb'}, {'text': '敲出', 'pos': 'VerbP'}, {'text': '2支', 'pos': 'ENTITY_classifier'}, {'text': '安打', 'pos': 'ENTITY_nouny'}], [{'text': '、', 'pos': 'PUNCTUATION'}], [{'text': '投出', 'pos': 'ACTION_verb'}, {'text': '保送', 'pos': 'ACTION_verb'}], [{'text': '，', 'pos': 'PUNCTUATION'}], [{'text': '\\n', 'pos': 'PUNCTUATION'}], [{'text': '形成', 'pos': 'ACTION_verb'}, {'text': '滿壘', 'pos': 'ENTITY_noun'}, {'text': '局面', 'pos': 'ENTITY_nounHead'}], [{'text': '，', 'pos': 'PUNCTUATION'}], [{'text': '此', 'pos': 'FUNC_determiner'}, {'text': '時', 'pos': 'FUNC_inner'}, {'text': '輪到', 'pos': 'ACTION_verb'}, {'text': '康福托', 'pos': 'ENTITY_person'}, {'text': '上場', 'pos': 'ACTION_verb'}, {'text': '打擊', 'pos': 'ACTION_verb'}], [{'text': '。', 'pos': 'PUNCTUATION'}], [{'text': '在', 'pos': 'FUNC_inner'}, {'text': '2', 'pos': 'ENTITY_num'}, {'text': '好', 'pos': 'FUNC_degreeHead'}, {'text': '1', 'pos': 'ENTITY_num'}, {'text': '壞', 'pos': 'MODIFIER'}, {'text': '的', 'pos': 'FUNC_inner'}, {'text': '局面', 'pos': 'ENTITY_nouny'}, {'text': '下', 'pos': 'RANGE_locality'}], [{'text': '，', 'pos': 'PUNCTUATION'}], [{'text': '巴斯', 'pos': 'ENTITY_person'}, {'text': '投了', 'pos': 'VerbP'}, {'text': '一顆', 'pos': 'ENTITY_classifier'}, {'text': '內', 'pos': 'RANGE_locality'}, {'text': '角滑球', 'pos': 'ENTITY_oov'}], [{'text': '，', 'pos': 'PUNCTUATION'}], [{'text': '康福托', 'pos': 'ENTITY_person'}, {'text': '眼', 'pos': 'ENTITY_nouny'}, {'text': '看', 'pos': 'ACTION_verb'}, {'text': '這顆', 'pos': 'ENTITY_DetPhrase'}, {'text': '球', 'pos': 'ENTITY_nouny'}, {'text': '越來', 'pos': 'ACTION_verb'}, {'text': '越', 'pos': 'MODIFIER'}], [{'text': '\\n', 'pos': 'PUNCTUATION'}], [{'text': '靠近', 'pos': 'ACTION_verb'}, {'text': '自己', 'pos': 'ENTITY_pronoun'}, {'text': '的', 'pos': 'FUNC_inner'}, {'text': '身體', 'pos': 'ENTITY_noun'}], [{'text': '，', 'pos': 'PUNCTUATION'}], [{'text': '似乎', 'pos': 'MODIFIER'}, {'text': '有下', 'pos': 'ACTION_verb'}, {'text': '意識地', 'pos': 'ENTITY_nouny'}, {'text': '將', 'pos': 'MODAL'}, {'text': '手', 'pos': 'ENTITY_oov'}, {'text': '伸進', 'pos': 'ACTION_verb'}, {'text': '好', 'pos': 'FUNC_degreeHead'}, {'text': '球帶內', 'pos': 'LOCATION'}], [{'text': '，', 'pos': 'PUNCTUATION'}], [{'text': '結果', 'pos': 'FUNC_inter'}, {'text': '這球', 'pos': 'ENTITY_nouny'}, {'text': '就', 'pos': 'FUNC_inner'}, {'text': '直接', 'pos': 'MODIFIER'}, {'text': '碰觸', 'pos': 'ACTION_verb'}, {'text': '到', 'pos': 'ACTION_verb'}, {'text': '他', 'pos': 'ENTITY_pronoun'}, {'text': '的', 'pos': 'FUNC_inner'}, {'text': '身肘', 'pos': 'ENTITY_nouny'}], [{'text': '，', 'pos': 'PUNCTUATION'}], [{'text': '隨', 'pos': 'ACTION_verb'}, {'text': '後', 'pos': 'RANGE_period'}, {'text': '主審', 'pos': 'ENTITY_nouny'}, {'text': '庫爾帕', 'pos': 'ENTITY_person'}, {'text': '判定', 'pos': 'ACTION_verb'}, {'text': '這', 'pos': 'FUNC_determiner'}, {'text': '是', 'pos': 'AUX'}], [{'text': '\\n', 'pos': 'PUNCTUATION'}], [{'text': '一記', 'pos': 'ENTITY_classifier'}, {'text': '觸身球', 'pos': 'ENTITY_noun'}], [{'text': '，', 'pos': 'PUNCTUATION'}], [{'text': '讓', 'pos': 'ACTION_verb'}, {'text': '大都會', 'pos': 'UserDefined'}, {'text': '兵不血刃', 'pos': 'IDIOM'}, {'text': '拿下', 'pos': 'ACTION_verb'}, {'text': '再見', 'pos': 'ACTION_verb'}, {'text': '分', 'pos': 'ENTITY_nouny'}], [{'text': '，', 'pos': 'PUNCTUATION'}], [{'text': '最終', 'pos': 'DegreeP'}, {'text': '贏得', 'pos': 'ACTION_verb'}, {'text': '比賽', 'pos': 'ENTITY_nouny'}, {'text': '勝利', 'pos': 'ENTITY_nouny'}], [{'text': '。', 'pos': 'PUNCTUATION'}]], 'level': 'lv2', 'version': 'v235', 'status': True, 'msg': 'Success!', 'word_count_balance': 100000, 'product': 'https://api.droidtown.co/product/', 'document': 'https://api.droidtown.co/document/'}\n",
      "\n",
      "籃球斷詞結果：\n",
      " {'exec_time': 1.2710094451904297, 'result_pos': ['<FUNC_determiner>本</FUNC_determiner><TIME_week>週三</TIME_week><FUNC_inner>在</FUNC_inner><LOCATION>紐約</LOCATION><FUNC_inner>的</FUNC_inner><ENTITY_nouny>比賽</ENTITY_nouny><RANGE_locality>中</RANGE_locality>', '，', '<UserDefined>馬林魚</UserDefined><ENTITY_nouny>此戰</ENTITY_nouny><ACTION_verb>使用</ACTION_verb><ENTITY_noun>投手</ENTITY_noun><ENTITY_nouny>車輪戰</ENTITY_nouny>', '，', '<ENTITY_classifier>4名</ENTITY_classifier><ENTITY_noun>投手</ENTITY_noun><MODIFIER>輪番</MODIFIER><ACTION_verb>上陣</ACTION_verb><ACTION_verb>壓制</ACTION_verb><UserDefined>大都會</UserDefined><ENTITY_noun>打線</ENTITY_noun>', '，', '\\n', '<ENTITY_classifier>前8局</ENTITY_classifier><MODIFIER>僅</MODIFIER><ACTION_lightVerb>被</ACTION_lightVerb><VerbP>敲出</VerbP><ENTITY_classifier>4支</ENTITY_classifier><ENTITY_nouny>安打</ENTITY_nouny><ACTION_verb>失</ACTION_verb><ENTITY_measurement>1分</ENTITY_measurement>', '，', '<ACTION_verb>讓</ACTION_verb><ENTITY_noun>球隊</ENTITY_noun><MODAL>能</MODAL><VerbP>帶著</VerbP><ENTITY_num>2</ENTITY_num>', '-', '<ENTITY_num>1</ENTITY_num><FUNC_inner>的</FUNC_inner><ENTITY_nouny>領先</ENTITY_nouny><ENTITY_nouny>優勢</ENTITY_nouny><ACTION_verb>進入</ACTION_verb><ACTION_verb>到</ACTION_verb><ENTITY_classifier>9局</ENTITY_classifier><RANGE_locality>下半</RANGE_locality>', '。', '<FUNC_inner>不過</FUNC_inner><UserDefined>馬林魚</UserDefined><ACTION_verb>推出</ACTION_verb><ENTITY_person>巴斯</ENTITY_person><ENTITY_nouny>登板</ENTITY_nouny><VerbP>關門</VerbP>', '，', '\\n', '<ENTITY_pronoun>他</ENTITY_pronoun><ACTION_verb>面對</ACTION_verb><ENTITY_classifier>首名</ENTITY_classifier><ENTITY_noun>打者</ENTITY_noun><ENTITY_person>麥尼爾</ENTITY_person>', '，', '<FUNC_inner>就</FUNC_inner><ACTION_lightVerb>被</ACTION_lightVerb><ACTION_verb>打出</ACTION_verb><ENTITY_classifier>一發</ENTITY_classifier><ENTITY_nouny>陽春砲</ENTITY_nouny>', '，', '<ACTION_verb>讓</ACTION_verb><UserDefined>大都會</UserDefined><ENTITY_nouny>追平比數</ENTITY_nouny>', '，', '<ACTION_verb>接下來</ACTION_verb><FUNC_inner>又</FUNC_inner><MODIFIER>分別</MODIFIER><ACTION_lightVerb>被</ACTION_lightVerb><VerbP>敲出</VerbP><ENTITY_classifier>2支</ENTITY_classifier><ENTITY_nouny>安打</ENTITY_nouny>', '、', '<ACTION_verb>投出</ACTION_verb><ACTION_verb>保送</ACTION_verb>', '，', '\\n', '<ACTION_verb>形成</ACTION_verb><ENTITY_noun>滿壘</ENTITY_noun><ENTITY_nounHead>局面</ENTITY_nounHead>', '，', '<FUNC_determiner>此</FUNC_determiner><FUNC_inner>時</FUNC_inner><ACTION_verb>輪到</ACTION_verb><ENTITY_person>康福托</ENTITY_person><ACTION_verb>上場</ACTION_verb><ACTION_verb>打擊</ACTION_verb>', '。', '<FUNC_inner>在</FUNC_inner><ENTITY_num>2</ENTITY_num><FUNC_degreeHead>好</FUNC_degreeHead><ENTITY_num>1</ENTITY_num><MODIFIER>壞</MODIFIER><FUNC_inner>的</FUNC_inner><ENTITY_nouny>局面</ENTITY_nouny><RANGE_locality>下</RANGE_locality>', '，', '<ENTITY_person>巴斯</ENTITY_person><VerbP>投了</VerbP><ENTITY_classifier>一顆</ENTITY_classifier><RANGE_locality>內</RANGE_locality><ENTITY_oov>角滑球</ENTITY_oov>', '，', '<ENTITY_person>康福托</ENTITY_person><ENTITY_nouny>眼</ENTITY_nouny><ACTION_verb>看</ACTION_verb><ENTITY_DetPhrase>這顆</ENTITY_DetPhrase><ENTITY_nouny>球</ENTITY_nouny><ACTION_verb>越來</ACTION_verb><MODIFIER>越</MODIFIER>', '\\n', '<ACTION_verb>靠近</ACTION_verb><ENTITY_pronoun>自己</ENTITY_pronoun><FUNC_inner>的</FUNC_inner><ENTITY_noun>身體</ENTITY_noun>', '，', '<MODIFIER>似乎</MODIFIER><ACTION_verb>有下</ACTION_verb><ENTITY_nouny>意識地</ENTITY_nouny><MODAL>將</MODAL><ENTITY_oov>手</ENTITY_oov><ACTION_verb>伸進</ACTION_verb><FUNC_degreeHead>好</FUNC_degreeHead><LOCATION>球帶內</LOCATION>', '，', '<FUNC_inter>結果</FUNC_inter><ENTITY_nouny>這球</ENTITY_nouny><FUNC_inner>就</FUNC_inner><MODIFIER>直接</MODIFIER><ACTION_verb>碰觸</ACTION_verb><ACTION_verb>到</ACTION_verb><ENTITY_pronoun>他</ENTITY_pronoun><FUNC_inner>的</FUNC_inner><ENTITY_nouny>身肘</ENTITY_nouny>', '，', '<ACTION_verb>隨</ACTION_verb><RANGE_period>後</RANGE_period><ENTITY_nouny>主審</ENTITY_nouny><ENTITY_person>庫爾帕</ENTITY_person><ACTION_verb>判定</ACTION_verb><FUNC_determiner>這</FUNC_determiner><AUX>是</AUX>', '\\n', '<ENTITY_classifier>一記</ENTITY_classifier><ENTITY_noun>觸身球</ENTITY_noun>', '，', '<ACTION_verb>讓</ACTION_verb><UserDefined>大都會</UserDefined><IDIOM>兵不血刃</IDIOM><ACTION_verb>拿下</ACTION_verb><ACTION_verb>再見</ACTION_verb><ENTITY_nouny>分</ENTITY_nouny>', '，', '<DegreeP>最終</DegreeP><ACTION_verb>贏得</ACTION_verb><ENTITY_nouny>比賽</ENTITY_nouny><ENTITY_nouny>勝利</ENTITY_nouny>', '。'], 'result_segmentation': '本/週三/在/紐約/的/比賽/中/，/馬林魚/此戰/使用/投手/車輪戰/，/4名/投手/輪番/上陣/壓制/大都會/打線/，/\\n/前8局/僅/被/敲出/4支/安打/失/1分/，/讓/球隊/能/帶著/2/-/1/的/領先/優勢/進入/到/9局/下半/。/不過/馬林魚/推出/巴斯/登板/關門/，/\\n/他/面對/首名/打者/麥尼爾/，/就/被/打出/一發/陽春砲/，/讓/大都會/追平比數/，/接下來/又/分別/被/敲出/2支/安打/、/投出/保送/，/\\n/形成/滿壘/局面/，/此/時/輪到/康福托/上場/打擊/。/在/2/好/1/壞/的/局面/下/，/巴斯/投了/一顆/內/角滑球/，/康福托/眼/看/這顆/球/越來/越/\\n/靠近/自己/的/身體/，/似乎/有下/意識地/將/手/伸進/好/球帶內/，/結果/這球/就/直接/碰觸/到/他/的/身肘/，/隨/後/主審/庫爾帕/判定/這/是/\\n/一記/觸身球/，/讓/大都會/兵不血刃/拿下/再見/分/，/最終/贏得/比賽/勝利/。', 'result_obj': [[{'text': '本', 'pos': 'FUNC_determiner'}, {'text': '週三', 'pos': 'TIME_week'}, {'text': '在', 'pos': 'FUNC_inner'}, {'text': '紐約', 'pos': 'LOCATION'}, {'text': '的', 'pos': 'FUNC_inner'}, {'text': '比賽', 'pos': 'ENTITY_nouny'}, {'text': '中', 'pos': 'RANGE_locality'}], [{'text': '，', 'pos': 'PUNCTUATION'}], [{'text': '馬林魚', 'pos': 'UserDefined'}, {'text': '此戰', 'pos': 'ENTITY_nouny'}, {'text': '使用', 'pos': 'ACTION_verb'}, {'text': '投手', 'pos': 'ENTITY_noun'}, {'text': '車輪戰', 'pos': 'ENTITY_nouny'}], [{'text': '，', 'pos': 'PUNCTUATION'}], [{'text': '4名', 'pos': 'ENTITY_classifier'}, {'text': '投手', 'pos': 'ENTITY_noun'}, {'text': '輪番', 'pos': 'MODIFIER'}, {'text': '上陣', 'pos': 'ACTION_verb'}, {'text': '壓制', 'pos': 'ACTION_verb'}, {'text': '大都會', 'pos': 'UserDefined'}, {'text': '打線', 'pos': 'ENTITY_noun'}], [{'text': '，', 'pos': 'PUNCTUATION'}], [{'text': '\\n', 'pos': 'PUNCTUATION'}], [{'text': '前8局', 'pos': 'ENTITY_classifier'}, {'text': '僅', 'pos': 'MODIFIER'}, {'text': '被', 'pos': 'ACTION_lightVerb'}, {'text': '敲出', 'pos': 'VerbP'}, {'text': '4支', 'pos': 'ENTITY_classifier'}, {'text': '安打', 'pos': 'ENTITY_nouny'}, {'text': '失', 'pos': 'ACTION_verb'}, {'text': '1分', 'pos': 'ENTITY_measurement'}], [{'text': '，', 'pos': 'PUNCTUATION'}], [{'text': '讓', 'pos': 'ACTION_verb'}, {'text': '球隊', 'pos': 'ENTITY_noun'}, {'text': '能', 'pos': 'MODAL'}, {'text': '帶著', 'pos': 'VerbP'}, {'text': '2', 'pos': 'ENTITY_num'}], [{'text': '-', 'pos': 'PUNCTUATION'}], [{'text': '1', 'pos': 'ENTITY_num'}, {'text': '的', 'pos': 'FUNC_inner'}, {'text': '領先', 'pos': 'ENTITY_nouny'}, {'text': '優勢', 'pos': 'ENTITY_nouny'}, {'text': '進入', 'pos': 'ACTION_verb'}, {'text': '到', 'pos': 'ACTION_verb'}, {'text': '9局', 'pos': 'ENTITY_classifier'}, {'text': '下半', 'pos': 'RANGE_locality'}], [{'text': '。', 'pos': 'PUNCTUATION'}], [{'text': '不過', 'pos': 'FUNC_inner'}, {'text': '馬林魚', 'pos': 'UserDefined'}, {'text': '推出', 'pos': 'ACTION_verb'}, {'text': '巴斯', 'pos': 'ENTITY_person'}, {'text': '登板', 'pos': 'ENTITY_nouny'}, {'text': '關門', 'pos': 'VerbP'}], [{'text': '，', 'pos': 'PUNCTUATION'}], [{'text': '\\n', 'pos': 'PUNCTUATION'}], [{'text': '他', 'pos': 'ENTITY_pronoun'}, {'text': '面對', 'pos': 'ACTION_verb'}, {'text': '首名', 'pos': 'ENTITY_classifier'}, {'text': '打者', 'pos': 'ENTITY_noun'}, {'text': '麥尼爾', 'pos': 'ENTITY_person'}], [{'text': '，', 'pos': 'PUNCTUATION'}], [{'text': '就', 'pos': 'FUNC_inner'}, {'text': '被', 'pos': 'ACTION_lightVerb'}, {'text': '打出', 'pos': 'ACTION_verb'}, {'text': '一發', 'pos': 'ENTITY_classifier'}, {'text': '陽春砲', 'pos': 'ENTITY_nouny'}], [{'text': '，', 'pos': 'PUNCTUATION'}], [{'text': '讓', 'pos': 'ACTION_verb'}, {'text': '大都會', 'pos': 'UserDefined'}, {'text': '追平比數', 'pos': 'ENTITY_nouny'}], [{'text': '，', 'pos': 'PUNCTUATION'}], [{'text': '接下來', 'pos': 'ACTION_verb'}, {'text': '又', 'pos': 'FUNC_inner'}, {'text': '分別', 'pos': 'MODIFIER'}, {'text': '被', 'pos': 'ACTION_lightVerb'}, {'text': '敲出', 'pos': 'VerbP'}, {'text': '2支', 'pos': 'ENTITY_classifier'}, {'text': '安打', 'pos': 'ENTITY_nouny'}], [{'text': '、', 'pos': 'PUNCTUATION'}], [{'text': '投出', 'pos': 'ACTION_verb'}, {'text': '保送', 'pos': 'ACTION_verb'}], [{'text': '，', 'pos': 'PUNCTUATION'}], [{'text': '\\n', 'pos': 'PUNCTUATION'}], [{'text': '形成', 'pos': 'ACTION_verb'}, {'text': '滿壘', 'pos': 'ENTITY_noun'}, {'text': '局面', 'pos': 'ENTITY_nounHead'}], [{'text': '，', 'pos': 'PUNCTUATION'}], [{'text': '此', 'pos': 'FUNC_determiner'}, {'text': '時', 'pos': 'FUNC_inner'}, {'text': '輪到', 'pos': 'ACTION_verb'}, {'text': '康福托', 'pos': 'ENTITY_person'}, {'text': '上場', 'pos': 'ACTION_verb'}, {'text': '打擊', 'pos': 'ACTION_verb'}], [{'text': '。', 'pos': 'PUNCTUATION'}], [{'text': '在', 'pos': 'FUNC_inner'}, {'text': '2', 'pos': 'ENTITY_num'}, {'text': '好', 'pos': 'FUNC_degreeHead'}, {'text': '1', 'pos': 'ENTITY_num'}, {'text': '壞', 'pos': 'MODIFIER'}, {'text': '的', 'pos': 'FUNC_inner'}, {'text': '局面', 'pos': 'ENTITY_nouny'}, {'text': '下', 'pos': 'RANGE_locality'}], [{'text': '，', 'pos': 'PUNCTUATION'}], [{'text': '巴斯', 'pos': 'ENTITY_person'}, {'text': '投了', 'pos': 'VerbP'}, {'text': '一顆', 'pos': 'ENTITY_classifier'}, {'text': '內', 'pos': 'RANGE_locality'}, {'text': '角滑球', 'pos': 'ENTITY_oov'}], [{'text': '，', 'pos': 'PUNCTUATION'}], [{'text': '康福托', 'pos': 'ENTITY_person'}, {'text': '眼', 'pos': 'ENTITY_nouny'}, {'text': '看', 'pos': 'ACTION_verb'}, {'text': '這顆', 'pos': 'ENTITY_DetPhrase'}, {'text': '球', 'pos': 'ENTITY_nouny'}, {'text': '越來', 'pos': 'ACTION_verb'}, {'text': '越', 'pos': 'MODIFIER'}], [{'text': '\\n', 'pos': 'PUNCTUATION'}], [{'text': '靠近', 'pos': 'ACTION_verb'}, {'text': '自己', 'pos': 'ENTITY_pronoun'}, {'text': '的', 'pos': 'FUNC_inner'}, {'text': '身體', 'pos': 'ENTITY_noun'}], [{'text': '，', 'pos': 'PUNCTUATION'}], [{'text': '似乎', 'pos': 'MODIFIER'}, {'text': '有下', 'pos': 'ACTION_verb'}, {'text': '意識地', 'pos': 'ENTITY_nouny'}, {'text': '將', 'pos': 'MODAL'}, {'text': '手', 'pos': 'ENTITY_oov'}, {'text': '伸進', 'pos': 'ACTION_verb'}, {'text': '好', 'pos': 'FUNC_degreeHead'}, {'text': '球帶內', 'pos': 'LOCATION'}], [{'text': '，', 'pos': 'PUNCTUATION'}], [{'text': '結果', 'pos': 'FUNC_inter'}, {'text': '這球', 'pos': 'ENTITY_nouny'}, {'text': '就', 'pos': 'FUNC_inner'}, {'text': '直接', 'pos': 'MODIFIER'}, {'text': '碰觸', 'pos': 'ACTION_verb'}, {'text': '到', 'pos': 'ACTION_verb'}, {'text': '他', 'pos': 'ENTITY_pronoun'}, {'text': '的', 'pos': 'FUNC_inner'}, {'text': '身肘', 'pos': 'ENTITY_nouny'}], [{'text': '，', 'pos': 'PUNCTUATION'}], [{'text': '隨', 'pos': 'ACTION_verb'}, {'text': '後', 'pos': 'RANGE_period'}, {'text': '主審', 'pos': 'ENTITY_nouny'}, {'text': '庫爾帕', 'pos': 'ENTITY_person'}, {'text': '判定', 'pos': 'ACTION_verb'}, {'text': '這', 'pos': 'FUNC_determiner'}, {'text': '是', 'pos': 'AUX'}], [{'text': '\\n', 'pos': 'PUNCTUATION'}], [{'text': '一記', 'pos': 'ENTITY_classifier'}, {'text': '觸身球', 'pos': 'ENTITY_noun'}], [{'text': '，', 'pos': 'PUNCTUATION'}], [{'text': '讓', 'pos': 'ACTION_verb'}, {'text': '大都會', 'pos': 'UserDefined'}, {'text': '兵不血刃', 'pos': 'IDIOM'}, {'text': '拿下', 'pos': 'ACTION_verb'}, {'text': '再見', 'pos': 'ACTION_verb'}, {'text': '分', 'pos': 'ENTITY_nouny'}], [{'text': '，', 'pos': 'PUNCTUATION'}], [{'text': '最終', 'pos': 'DegreeP'}, {'text': '贏得', 'pos': 'ACTION_verb'}, {'text': '比賽', 'pos': 'ENTITY_nouny'}, {'text': '勝利', 'pos': 'ENTITY_nouny'}], [{'text': '。', 'pos': 'PUNCTUATION'}]], 'level': 'lv2', 'version': 'v235', 'status': True, 'msg': 'Success!', 'word_count_balance': 100000, 'product': 'https://api.droidtown.co/product/', 'document': 'https://api.droidtown.co/document/'}\n"
     ]
    }
   ],
   "source": [
    "#!/usr/bin/env python3\n",
    "# -*- coding:utf-8 -*-\n",
    "\n",
    "\n",
    "from ArticutAPI import Articut\n",
    "import json\n",
    "\n",
    "\n",
    "if __name__ == \"__main__\":\n",
    "    \n",
    "    username = \"\" #這裡填入您在 https://api.droidtown.co 使用的帳號 email。若使用空字串，則預設使用每小時 2000 字的公用額度。\n",
    "    apikey   = \"\" #這裡填入您在 https://api.droidtown.co 登入後取得的 api Key。若使用空字串，則預設使用每小時 2000 字的公用額度。\n",
    "\n",
    "    articut = Articut(username, apikey)    \n",
    "    \n",
    "    #以下語料可以參考\n",
    "    baseballSTR = \"\"\"本週三在紐約的比賽中，馬林魚此戰使用投手車輪戰，4名投手輪番上陣壓制大都會打線，\n",
    "    前8局僅被敲出4支安打失1分，讓球隊能帶著2-1的領先優勢進入到9局下半。不過馬林魚推出巴斯登板關門，\n",
    "    他面對首名打者麥尼爾，就被打出一發陽春砲，讓大都會追平比數，接下來又分別被敲出2支安打、投出保送，\n",
    "    形成滿壘局面，此時輪到康福托上場打擊。在2好1壞的局面下，巴斯投了一顆內角滑球，康福托眼看這顆球越來越\n",
    "    靠近自己的身體，似乎有下意識地將手伸進好球帶內，結果這球就直接碰觸到他的身肘，隨後主審庫爾帕判定這是\n",
    "    一記觸身球，讓大都會兵不血刃拿下再見分，最終贏得比賽勝利。\"\"\".replace(\" \", \"\")\n",
    "    basketballSTR = \"\"\"昨晚的紐約西區霸王之戰中，錯失勝利的太陽沒有就此束手就擒，延長賽一開始就打出7比2攻勢\n",
    "    ，米契爾和康利雖然力圖追分，但太陽總能馬上回應。康利讀秒階段上籃得手，布克兩罰一中，再次留給爵士追平機會。\n",
    "    米契爾造成犯規，可惜兩罰一中，保羅隨後用兩罰鎖定勝利。米契爾狂轟41分8籃板3助攻，本季單場得分次高；戈貝爾160\n",
    "    分18籃板3抄截，波格丹諾維奇20分。康利拿到11分4助攻，克拉克森11分，兩人合計28投僅9中。爵士的三分攻勢難以\n",
    "    有效施展，全場44投僅11中。\"\"\".replace(\" \", \"\")\n",
    "    \n",
    "    #將 KNOWLEDGE_NBA_Teams.json 和 KNOWLEDGE_MLB_Teams.json 兩個體育欸字典讀取出來，合併成mixDICT 以後，寫入 mixedXICT.json 檔\n",
    "    with open(\"ArticutAPI-master/Public_UserDefinedDict/KNOWLEDGE_NBA_Teams.json\", encoding=\"utf-8\") as f:\n",
    "        nbaDICT = json.loads(f.read())\n",
    "    with open(\"ArticutAPI-master/Public_UserDefinedDICT/KNOWLEDGE_MLB_Teams.json\", encoding=\"utf-8\") as f:\n",
    "        mlbDICT = json.loads(f.read())\n",
    "        \n",
    "    mixedDICT = {**nbaDICT, **mlbDICT}\n",
    "    with open(\"mixedDICT.json\", mode = \"w\", encoding = \"utf-8\") as f:\n",
    "        json.dump(mixedDICT, f, ensure_ascii=False)\n",
    "    \n",
    "    # 將baseballStR 和 basketballSTR 兩篇文本各自送入articut.parse() 裡，同時指定 userDefinedDictFILE 為剛才產生mixedDICT.json\n",
    "    baseballResultDICT = articut.parse(baseballSTR, userDefinedDictFILE=\"./mixedDICT.json\")\n",
    "    basketballResultDICT = articut.parse(baseballSTR, userDefinedDictFILE=\"./mixedDICT.json\")\n",
    "    \n",
    "    print(\"\\n棒球斷詞結果：\\n\", baseballResultDICT)\n",
    "    print(\"\\n籃球斷詞結果：\\n\", basketballResultDICT)"
   ]
  }
 ],
 "metadata": {
  "kernelspec": {
   "display_name": "Python 3",
   "language": "python",
   "name": "python3"
  },
  "language_info": {
   "codemirror_mode": {
    "name": "ipython",
    "version": 3
   },
   "file_extension": ".py",
   "mimetype": "text/x-python",
   "name": "python",
   "nbconvert_exporter": "python",
   "pygments_lexer": "ipython3",
   "version": "3.8.5"
  }
 },
 "nbformat": 4,
 "nbformat_minor": 4
}
