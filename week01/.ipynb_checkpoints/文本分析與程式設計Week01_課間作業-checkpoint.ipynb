{
 "cells": [
  {
   "cell_type": "markdown",
   "metadata": {},
   "source": [
    "# 文本分析與程式設計Week01_課間作業\n"
   ]
  },
  {
   "cell_type": "markdown",
   "metadata": {},
   "source": [
    "## 課間作業 1\n",
    "請問下面這段文字有幾個字？幾個字符？幾個詞？\n",
    "\n",
    "「這個星期日本想往後山藥師佛寺去世人罕至處想一想自己的人生」\n"
   ]
  },
  {
   "cell_type": "code",
   "execution_count": null,
   "metadata": {},
   "outputs": [],
   "source": []
  },
  {
   "cell_type": "markdown",
   "metadata": {},
   "source": [
    "## 課間作業 2 \n",
    "仿照前例，用 Python3 設計一段程式，分別用 \"lv1\" 和 \"lv2\" 輸入「閱讀創造了奇蹟」，觀察 lv1 和 lv2 的設定下，回傳的結果有何差別。"
   ]
  },
  {
   "cell_type": "code",
   "execution_count": null,
   "metadata": {},
   "outputs": [],
   "source": []
  },
  {
   "cell_type": "markdown",
   "metadata": {},
   "source": [
    "## 課間練習3\n",
    "仿照右例，結合兩個字典檔成為一個 mixedDICT.json 檔以後。分別將 basebalSTR 和 basketballSTR 輸入 Articut 進行處理並取得回傳結果。"
   ]
  },
  {
   "cell_type": "code",
   "execution_count": null,
   "metadata": {},
   "outputs": [],
   "source": []
  }
 ],
 "metadata": {
  "kernelspec": {
   "display_name": "Python 3",
   "language": "python",
   "name": "python3"
  },
  "language_info": {
   "codemirror_mode": {
    "name": "ipython",
    "version": 3
   },
   "file_extension": ".py",
   "mimetype": "text/x-python",
   "name": "python",
   "nbconvert_exporter": "python",
   "pygments_lexer": "ipython3",
   "version": "3.8.5"
  }
 },
 "nbformat": 4,
 "nbformat_minor": 4
}
