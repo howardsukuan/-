{
 "cells": [
  {
   "cell_type": "markdown",
   "metadata": {},
   "source": [
    "# 文本分析與程式設計 Week1 - 課程內容"
   ]
  },
  {
   "cell_type": "markdown",
   "metadata": {},
   "source": [
    "## 安裝ArticutAPI\n",
    "ArticutAPI 則是可透過 Python 的套件系統 (pip) 進行安裝並操作 Articut的 API 介面。\n",
    "只要在電腦裡下以下指令即可\n",
    "\n",
    "在電腦下指令，有兩種方法：\n",
    "1. 一種是可以開CMD (命令提示字元，windows) ，或是linux 或是 mac 的 terminal內輸入\n",
    "2. 如果是使用Anaconda 內的jupyter notebook，可以在jupyter notebook 中直接執行 ! pip3 install ArticutAPI 或是開啟anaconda prompt 中開啟使用"
   ]
  },
  {
   "cell_type": "code",
   "execution_count": null,
   "metadata": {},
   "outputs": [],
   "source": [
    "## 請從下方指令，二選一使用\n",
    "\n",
    "#pip3 install ArticutAPI \n",
    "#python3 -m pip install ArticutAPI\n"
   ]
  },
  {
   "cell_type": "markdown",
   "metadata": {},
   "source": [
    "## 註冊並取得教學用API 金鑰\n",
    "卓騰語言科技免費提供一個月無字數限制之 Articut 教學用金鑰給中華民國教育部承認之教學單位授課使用。請先至 https://api.droidtown.co 完成註冊，並來信 info@droidtown.co 載明: \n",
    "\n",
    "1. 授課教師姓名\n",
    "2. 授課教師 email (必需和前述註冊帳號一致)\n",
    "3. 授課大綱\n",
    "\n",
    "經查證後，即可取得「一個月」無字數限制之 Articut 教學用金鑰。 再登入 https://api.droidtown.co後，即能在以下畫面取得 Articut NLP 系統的操作金鑰。\n",
    "金鑰可分給課堂學生使用。"
   ]
  },
  {
   "cell_type": "markdown",
   "metadata": {},
   "source": [
    "## 基本操作範例：輸入"
   ]
  },
  {
   "cell_type": "code",
   "execution_count": 1,
   "metadata": {
    "scrolled": false
   },
   "outputs": [
    {
     "name": "stdout",
     "output_type": "stream",
     "text": [
      "{'document': 'https://api.droidtown.co/document/',\n",
      " 'exec_time': 0.07889175415039062,\n",
      " 'level': 'lv2',\n",
      " 'msg': 'Success!',\n",
      " 'product': 'https://api.droidtown.co/product/',\n",
      " 'result_obj': [[{'pos': 'MODAL', 'text': '會'},\n",
      "                 {'pos': 'ACTION_lightVerb', 'text': '被'},\n",
      "                 {'pos': 'ENTITY_noun', 'text': '大家'},\n",
      "                 {'pos': 'ACTION_verb', 'text': '盯'},\n",
      "                 {'pos': 'RANGE_locality', 'text': '上'}],\n",
      "                [{'pos': 'PUNCTUATION', 'text': '，'}],\n",
      "                [{'pos': 'MODAL', 'text': '才'},\n",
      "                 {'pos': 'ACTION_verb', 'text': '證明'},\n",
      "                 {'pos': 'ENTITY_pronoun', 'text': '你'},\n",
      "                 {'pos': 'ACTION_verb', 'text': '有'},\n",
      "                 {'pos': 'ENTITY_noun', 'text': '實力'}]],\n",
      " 'result_pos': ['<MODAL>會</MODAL><ACTION_lightVerb>被</ACTION_lightVerb><ENTITY_noun>大家</ENTITY_noun><ACTION_verb>盯</ACTION_verb><RANGE_locality>上</RANGE_locality>',\n",
      "                '，',\n",
      "                '<MODAL>才</MODAL><ACTION_verb>證明</ACTION_verb><ENTITY_pronoun>你</ENTITY_pronoun><ACTION_verb>有</ACTION_verb><ENTITY_noun>實力</ENTITY_noun>'],\n",
      " 'result_segmentation': '會/被/大家/盯/上/，/才/證明/你/有/實力',\n",
      " 'status': True,\n",
      " 'version': 'v236',\n",
      " 'word_count_balance': 1942}\n"
     ]
    }
   ],
   "source": [
    "#!/usr/bin/env python3\n",
    "# -*- coding:utf-8 -*-\n",
    "\n",
    "\n",
    "from ArticutAPI import Articut\n",
    "from pprint import pprint\n",
    "\n",
    "\n",
    "if __name__ == \"__main__\":\n",
    "    \n",
    "    username = \"\" #這裡填入您在 https://api.droidtown.co 使用的帳號 email。若使用空字串，則預設使用每小時 2000 字的公用額度。\n",
    "    apikey   = \"\" #這裡填入您在 https://api.droidtown.co 登入後取得的 api Key。若使用空字串，則預設使用每小時 2000 字的公用額度。\n",
    "\n",
    "    articut = Articut(username, apikey)     #輸入中文字串\n",
    "\n",
    "    inputSTR = \"會被大家盯上，才證明你有實力\" #將結果存在 resultDICT 的變數中\n",
    "    resultDICT = articut.parse(inputSTR)    #用pprint() 把結果印出來\n",
    "    pprint(resultDICT)"
   ]
  },
  {
   "cell_type": "markdown",
   "metadata": {},
   "source": [
    "## 進階用法之一：lv1 和 lv2 輸入\n",
    "Articut 可以針對不同的需求，來自由選擇想要把詞斷的比較細一些或是粗一些。這個就要調整Articut Level\n",
    "Articut Level 意指斷詞的深度。數字愈小，切得愈細。\n",
    "\n",
    "總共兩個level,level 1 可以切得比較細，而level2 比較粗一些。請看以下範例"
   ]
  },
  {
   "cell_type": "code",
   "execution_count": 3,
   "metadata": {},
   "outputs": [
    {
     "name": "stdout",
     "output_type": "stream",
     "text": [
      "\n",
      " lv1 的設定下，處理結果：\n",
      "\n",
      "{'document': 'https://api.droidtown.co/document/',\n",
      " 'exec_time': 0.03942060470581055,\n",
      " 'level': 'lv1',\n",
      " 'msg': 'Success!',\n",
      " 'product': 'https://api.droidtown.co/product/',\n",
      " 'result_obj': [[{'pos': 'MODIFIER', 'text': '小'},\n",
      "                 {'pos': 'MODIFIER_color', 'text': '紅'},\n",
      "                 {'pos': 'ENTITY_nounHead', 'text': '帽'}]],\n",
      " 'result_pos': ['<MODIFIER>小</MODIFIER><MODIFIER_color>紅</MODIFIER_color><ENTITY_nounHead>帽</ENTITY_nounHead>'],\n",
      " 'result_segmentation': '小/紅/帽',\n",
      " 'status': True,\n",
      " 'version': 'v236',\n",
      " 'word_count_balance': 1933}\n",
      "\n",
      " lv2 的設定下，處理結果：\n",
      "\n",
      "{'document': 'https://api.droidtown.co/document/',\n",
      " 'exec_time': 0.04227423667907715,\n",
      " 'level': 'lv2',\n",
      " 'msg': 'Success!',\n",
      " 'product': 'https://api.droidtown.co/product/',\n",
      " 'result_obj': [[{'pos': 'ENTITY_nouny', 'text': '小紅帽'}]],\n",
      " 'result_pos': ['<ENTITY_nouny>小紅帽</ENTITY_nouny>'],\n",
      " 'result_segmentation': '小紅帽',\n",
      " 'status': True,\n",
      " 'version': 'v236',\n",
      " 'word_count_balance': 1930}\n"
     ]
    }
   ],
   "source": [
    "from ArticutAPI import Articut\n",
    "\n",
    "if __name__ == \"__main__\":\n",
    "    \n",
    "    username = \"\" #這裡填入您在 https://api.droidtown.co 使用的帳號 email。若使用空字串，則預設使用每小時 2000 字的公用額度。\n",
    "    apikey   = \"\" #這裡填入您在 https://api.droidtown.co 登入後取得的 api Key。若使用空字串，則預設使用每小時 2000 字的公用額度。\n",
    "\n",
    "    articut = Articut(username, apikey)     #輸入中文字串\n",
    "\n",
    "    inputSTR = \"小紅帽\" \n",
    "    resultDICT1 = articut.parse(inputSTR, level='lv1')    \n",
    "    print(\"\\n lv1 的設定下，處理結果：\\n\")\n",
    "    pprint(resultDICT1)\n",
    "    \n",
    "    resultDICT2 = articut.parse(inputSTR, level='lv2')    \n",
    "    print(\"\\n lv2 的設定下，處理結果：\\n\")\n",
    "    pprint(resultDICT2)"
   ]
  },
  {
   "cell_type": "code",
   "execution_count": 4,
   "metadata": {},
   "outputs": [
    {
     "name": "stdout",
     "output_type": "stream",
     "text": [
      "\n",
      " lv1 的設定下，處理結果：\n",
      " {'exec_time': 0.04845786094665527, 'result_pos': ['<ACTION_verb>創造</ACTION_verb><ASPECT>了</ASPECT>'], 'result_segmentation': '創造/了', 'result_obj': [[{'text': '創造', 'pos': 'ACTION_verb'}, {'text': '了', 'pos': 'ASPECT'}]], 'level': 'lv1', 'version': 'v235', 'status': True, 'msg': 'Success!', 'word_count_balance': 1985, 'product': 'https://api.droidtown.co/product/', 'document': 'https://api.droidtown.co/document/'}\n",
      "\n",
      " lv2 的設定下，處理結果：\n",
      " {'exec_time': 0.052085161209106445, 'result_pos': ['<VerbP>創造了</VerbP>'], 'result_segmentation': '創造了', 'result_obj': [[{'text': '創造了', 'pos': 'VerbP'}]], 'level': 'lv2', 'version': 'v235', 'status': True, 'msg': 'Success!', 'word_count_balance': 1982, 'product': 'https://api.droidtown.co/product/', 'document': 'https://api.droidtown.co/document/'}\n"
     ]
    }
   ],
   "source": [
    "from ArticutAPI import Articut\n",
    "\n",
    "if __name__ == \"__main__\":\n",
    "    \n",
    "    username = \"\" #這裡填入您在 https://api.droidtown.co 使用的帳號 email。若使用空字串，則預設使用每小時 2000 字的公用額度。\n",
    "    apikey   = \"\" #這裡填入您在 https://api.droidtown.co 登入後取得的 api Key。若使用空字串，則預設使用每小時 2000 字的公用額度。\n",
    "\n",
    "    articut = Articut(username, apikey)     #輸入中文字串\n",
    "\n",
    "    inputSTR = \"創造了\" \n",
    "    resultDICT = articut.parse(inputSTR, level='lv1')    \n",
    "    print(\"\\n lv1 的設定下，處理結果：\\n\", resultDICT)\n",
    "    \n",
    "    resultDICT = articut.parse(inputSTR, level='lv2')    \n",
    "    print(\"\\n lv2 的設定下，處理結果：\\n\", resultDICT)"
   ]
  }
 ],
 "metadata": {
  "kernelspec": {
   "display_name": "Python 3",
   "language": "python",
   "name": "python3"
  },
  "language_info": {
   "codemirror_mode": {
    "name": "ipython",
    "version": 3
   },
   "file_extension": ".py",
   "mimetype": "text/x-python",
   "name": "python",
   "nbconvert_exporter": "python",
   "pygments_lexer": "ipython3",
   "version": "3.8.5"
  }
 },
 "nbformat": 4,
 "nbformat_minor": 4
}
