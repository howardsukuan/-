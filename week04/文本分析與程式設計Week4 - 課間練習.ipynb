{
 "cells": [
  {
   "cell_type": "markdown",
   "metadata": {},
   "source": [
    "# 文本分析與程式設計Week4 - 課間練習"
   ]
  },
  {
   "cell_type": "markdown",
   "metadata": {},
   "source": [
    "## 課間練習1：複習\n",
    "- 請問我們前三週用來取得特徵詞的工具有哪三個呢？\n",
    "- 請利用這三項工具來取出特徵詞，請問利用這三套工具之後，棒球有哪些特徵詞而籃球又有那些呢？\n",
    "- 想想看，你覺得那些特徵可以幫助你分類呢？"
   ]
  },
  {
   "cell_type": "code",
   "execution_count": null,
   "metadata": {},
   "outputs": [],
   "source": []
  },
  {
   "cell_type": "markdown",
   "metadata": {},
   "source": [
    "## 課間練習2\n",
    "請看剛剛待分類的文本，請和同學討論看看這是屬於棒球還是籃球呢？你是怎麼知道的呢？"
   ]
  },
  {
   "cell_type": "code",
   "execution_count": null,
   "metadata": {},
   "outputs": [],
   "source": []
  },
  {
   "cell_type": "markdown",
   "metadata": {},
   "source": [
    "## 課間練習3\n",
    "- 請問這個結果和你們自己討論出來的結果一致嗎？\n",
    "- 請問你也是用動詞來評判一個這個新的文本是不是棒球或是籃球的文本嗎？"
   ]
  },
  {
   "cell_type": "code",
   "execution_count": null,
   "metadata": {},
   "outputs": [],
   "source": []
  },
  {
   "cell_type": "markdown",
   "metadata": {},
   "source": [
    "## 課間練習4\n",
    "1. 請依照以下步驟，來以名詞為特徵來看看棒球和籃球文本的相似程度\n",
    "    - 1) 取出做為基準文本的「棒球類文本」和「籃球類文本」的「名詞列表」\n",
    "    - 2) 用一樣的方法取出「未知文本」的名詞列表\n",
    "    - 3)利用 Counter() 模組將列表中的每個名詞出現的次數，各自累加起來。再用 counterCosinSimilarity() 函式計算 \n",
    "2. 請問透過上面步驟，未知文本是哪一種文本呢？\n",
    "3. 你覺得透過「名詞」和「動詞」可以來分類文本嗎？"
   ]
  },
  {
   "cell_type": "code",
   "execution_count": null,
   "metadata": {},
   "outputs": [],
   "source": []
  },
  {
   "cell_type": "markdown",
   "metadata": {},
   "source": [
    "## 課間練習 5\n",
    "\n",
    "- 1. 請參考利用名詞和動詞來當作特徵的文本分類步驟，使用計算TF-IDF 為特徵，來比對未知文本和棒球還是籃球的餘弦相似性。\n",
    "- 2. 請問利用TF-IDF 可以告訴你未知文本與哪一種文本比較相似嗎？"
   ]
  },
  {
   "cell_type": "code",
   "execution_count": null,
   "metadata": {},
   "outputs": [],
   "source": []
  },
  {
   "cell_type": "markdown",
   "metadata": {},
   "source": [
    "## 課間練習6 \n",
    "\n",
    "目前你已經有用「動詞」、「名詞」以及「TF-IDF」所得到的特徵詞和未知文本和棒球文本及籃球文本比對而得出的餘弦相似性。請問看到目前電腦給你的分析成果，哪一種你覺得比較好解釋「為什麼未知文本和棒球文本比較像」？"
   ]
  },
  {
   "cell_type": "code",
   "execution_count": null,
   "metadata": {},
   "outputs": [],
   "source": []
  },
  {
   "attachments": {},
   "cell_type": "markdown",
   "metadata": {},
   "source": [
    "## 課間練習7\n",
    "- 1. 仿照前例，請在網路上找到十篇籃球比賽報導，十篇棒球比賽報導以及十篇「非」籃球亦「非」棒球的比賽報告，試試看透過 [名詞] 、[動詞] 或其它特徵詞抽取方式來分類。\n",
    "- 2. 試著解釋你的分類依據。\n",
    "3. 請思考，若做為分類基準的文本和測試的文本長度相差過大時，是否會造成分類效果的影響？該如何調整？"
   ]
  },
  {
   "cell_type": "code",
   "execution_count": null,
   "metadata": {},
   "outputs": [],
   "source": []
  }
 ],
 "metadata": {
  "kernelspec": {
   "display_name": "Python 3",
   "language": "python",
   "name": "python3"
  },
  "language_info": {
   "codemirror_mode": {
    "name": "ipython",
    "version": 3
   },
   "file_extension": ".py",
   "mimetype": "text/x-python",
   "name": "python",
   "nbconvert_exporter": "python",
   "pygments_lexer": "ipython3",
   "version": "3.8.5"
  }
 },
 "nbformat": 4,
 "nbformat_minor": 4
}
